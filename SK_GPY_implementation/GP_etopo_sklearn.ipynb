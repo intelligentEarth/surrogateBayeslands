{
 "cells": [
  {
   "cell_type": "code",
   "execution_count": null,
   "metadata": {},
   "outputs": [],
   "source": [
    "import numpy as np\n",
    "import time\n",
    "from matplotlib import pyplot as plt\n",
    "from sklearn.model_selection import train_test_split\n",
    "from sklearn.gaussian_process import GaussianProcessRegressor\n",
    "from sklearn.model_selection import GridSearchCV\n",
    "from sklearn.gaussian_process.kernels import (RBF, Matern, RationalQuadratic,\n",
    "                                              ExpSineSquared, DotProduct, WhiteKernel,\n",
    "                                              ConstantKernel)\n",
    "from sklearn.metrics import mean_squared_error, r2_score\n",
    "from sklearn.preprocessing import normalize\n",
    "import plotly\n",
    "import plotly.plotly as py\n",
    "import matplotlib as mpl\n",
    "import matplotlib.mlab as mlab\n",
    "import matplotlib.pyplot as plt\n",
    "import plotly.graph_objs as go\n",
    "from plotly.graph_objs import *\n",
    "import plotly.graph_objs as go\n",
    "from plotly.offline.offline import _plot_html\n",
    "plotly.offline.init_notebook_mode()\n",
    "np.random.seed(1)"
   ]
  },
  {
   "cell_type": "markdown",
   "metadata": {},
   "source": [
    "\n",
    "***SKLEARN TEST EXAMPLE***\n"
   ]
  },
  {
   "cell_type": "code",
   "execution_count": null,
   "metadata": {},
   "outputs": [],
   "source": [
    "def f(x):\n",
    "    \"\"\"The function to predict.\"\"\"\n",
    "    return x * np.sin(x)\n",
    "\n",
    "# ----------------------------------------------------------------------\n",
    "#  First the noiseless case\n",
    "X_2 = np.atleast_2d([1., 3., 5., 6., 7., 8.]).T\n",
    "\n",
    "# Observations\n",
    "y_2 = f(X_2).ravel()\n",
    "\n",
    "# Mesh the input space for evaluations of the real function, the prediction and\n",
    "# its MSE\n",
    "x_2 = np.atleast_2d(np.linspace(0, 10, 1000)).T\n",
    "\n",
    "# print 'X', X\n",
    "# print 'y', y\n",
    "# print 'x', x\n",
    "\n",
    "# Instanciate a Gaussian Process model\n",
    "kernel = ConstantKernel(1.0, (1e-3, 1e3)) * RBF(10, (1e-2, 1e2))\n",
    "gp = GaussianProcessRegressor(kernel=kernel, n_restarts_optimizer=5)\n",
    "\n",
    "# Fit to data using Maximum Likelihood Estimation of the parameters\n",
    "gp.fit(X_2, y_2)\n",
    "y_2_pred, y_2_cov = gp.predict(x_2, return_cov=True)"
   ]
  },
  {
   "cell_type": "markdown",
   "metadata": {},
   "source": [
    "\n",
    "\n",
    "***BADLANDS CRATER EXAMPLE***"
   ]
  },
  {
   "cell_type": "code",
   "execution_count": null,
   "metadata": {},
   "outputs": [],
   "source": [
    "file = np.loadtxt(\"Examples/etopo/e_liklsurf_s_true/exp_data.txt\", delimiter = ',')\n",
    "data = file[:,0:2].reshape(file.shape[0], 2)\n",
    "y = np.asarray(file[:,2]).reshape(file.shape[0],1)\n",
    "# y = normalize(y, axis = 0, norm = 'max') # 'l1, l2, max'\n",
    "y = y.ravel()\n",
    "y = y/(-1*y.min())\n",
    "# y = y*(-1)\n",
    "y_min = y.min()\n",
    "y_max = y.max()\n",
    "X = np.asarray(data)"
   ]
  },
  {
   "cell_type": "code",
   "execution_count": null,
   "metadata": {},
   "outputs": [],
   "source": [
    "def SurrogateHeatmap(x1Data, x2Data, yData, y_min, y_max, title):\n",
    "    trace = go.Heatmap(x=x1Data, y=x2Data, z=yData, zmin = y_min, zmax = y_max)\n",
    "    data = [trace]\n",
    "    layout = Layout(\n",
    "        title='%s ' %(title),\n",
    "        scene=Scene(\n",
    "            zaxis=ZAxis(title = 'Likl',range=[-1,0] ,gridcolor='rgb(255, 255, 255)',gridwidth=2,zerolinecolor='rgb(255, 255, 255)',zerolinewidth=2),\n",
    "            xaxis=XAxis(title = 'Rain', range=[x2Data.min(),x2Data.max()],gridcolor='rgb(255, 255, 255)',gridwidth=2,zerolinecolor='rgb(255, 255, 255)',zerolinewidth=2),\n",
    "            yaxis=YAxis(title = 'Erod', range=[x2Data.min(),x2Data.max()] ,gridcolor='rgb(255, 255, 255)',gridwidth=2,zerolinecolor='rgb(255, 255, 255)',zerolinewidth=2),\n",
    "            bgcolor=\"rgb(244, 244, 248)\"\n",
    "        )\n",
    "    )\n",
    "    fig = Figure(data=data, layout=layout)\n",
    "    plotly.offline.plot(fig, auto_open=False, output_type='file', filename='Examples/etopo/e_liklsurf_s_true/GP_skl/%s.html' %(title), validate=False)\n",
    "    return"
   ]
  },
  {
   "cell_type": "code",
   "execution_count": null,
   "metadata": {},
   "outputs": [],
   "source": [
    "SurrogateHeatmap(X[:,0], X[:,1], y, y_min, y_max, 'data')"
   ]
  },
  {
   "cell_type": "code",
   "execution_count": null,
   "metadata": {},
   "outputs": [],
   "source": [
    "X_train, X_test, y_train, y_test = train_test_split(X, y, test_size=0.33, random_state=42)\n",
    "#print 'Y\\n', y \n",
    "print y.shape\n",
    "print X_train.shape\n",
    "print y_train.shape\n",
    "print X_test.shape\n",
    "print y_test.shape"
   ]
  },
  {
   "cell_type": "code",
   "execution_count": null,
   "metadata": {},
   "outputs": [],
   "source": [
    "# kernel = 1.0 * RBF(length_scale=100.0, length_scale_bounds=(1e-2, 1e3))+ WhiteKernel(noise_level=1, noise_level_bounds=(1e-10, 1e+1))\n",
    "kernel = 0.00316**2 + Matern(length_scale=1.11, nu=1.5) + WhiteKernel(noise_level=0.0912)\n",
    "# kernel = 1.0 * RBF(length_scale=100.0, length_scale_bounds=(1e-2, 1e3)) + Matern(length_scale=1.11, nu=1.5) + WhiteKernel(noise_level=0.099)"
   ]
  },
  {
   "cell_type": "code",
   "execution_count": null,
   "metadata": {},
   "outputs": [],
   "source": [
    "start = time.time()\n",
    "# First run\n",
    "gp = GaussianProcessRegressor(kernel=kernel,alpha=0.0, n_restarts_optimizer = 5, normalize_y = True)\n",
    "\n",
    "gp.fit(X_train, y_train)\n",
    "y_mean, y_cov = gp.predict(X_test ,return_cov=True)\n",
    "\n",
    "end = time.time()\n",
    "print 'time elapsed in GP ', end-start"
   ]
  },
  {
   "cell_type": "code",
   "execution_count": null,
   "metadata": {},
   "outputs": [],
   "source": [
    "print \"Mean squared error: %.2f\"% mean_squared_error(y_test, y_mean)\n",
    "# Explained variance score: 1 is perfect prediction\n",
    "print 'Variance score: %.2f' % r2_score(y_test, y_mean)"
   ]
  },
  {
   "cell_type": "code",
   "execution_count": null,
   "metadata": {},
   "outputs": [],
   "source": [
    "SurrogateHeatmap(X_test[:,0], X_test[:,1], y_test, y_min, y_max, 'test_data')"
   ]
  },
  {
   "cell_type": "code",
   "execution_count": null,
   "metadata": {},
   "outputs": [],
   "source": [
    "SurrogateHeatmap(X_test[:,0], X_test[:,1], y_mean, y_min, y_max,'GP_pred')"
   ]
  },
  {
   "cell_type": "code",
   "execution_count": null,
   "metadata": {},
   "outputs": [],
   "source": [
    "kernels = [1.0 * RBF(length_scale=10.0, length_scale_bounds=(1e-2, 1e3))+ WhiteKernel(noise_level=1, noise_level_bounds=(1e-10, 1e+1)),\n",
    "           1.0 * RationalQuadratic(length_scale=100.0, alpha=0.5),\n",
    "           1.0 * ExpSineSquared(length_scale=1.0, periodicity=3.0,length_scale_bounds=(0.1, 10.0),periodicity_bounds=(1.0, 10.0)),\n",
    "           ConstantKernel(0.1, (0.01, 10.0))* (DotProduct(sigma_0=1.0, sigma_0_bounds=(0.0, 10.0)) ** 2),\n",
    "           0.00316**2 + Matern(length_scale=1.11, nu=1.5) + WhiteKernel(noise_level=0.0912)]\n",
    "for fig_index, kernel in enumerate(kernels):\n",
    "    # Specify Gaussian Process\n",
    "    gp_t = GaussianProcessRegressor(kernel=kernel,alpha=10.0, normalize_y = True)\n",
    "\n",
    "    # Plot prior\n",
    "    plt.figure(fig_index, figsize=(8, 8))\n",
    "    plt.subplot(2, 1, 1)\n",
    "    X_ = np.linspace(0, 5, 100)\n",
    "    y_mean, y_std = gp_t.predict(X_[:, np.newaxis], return_std=True)\n",
    "    plt.plot(X_, y_mean, 'k', lw=3, zorder=9)\n",
    "    plt.fill_between(X_, y_mean - y_std, y_mean + y_std,\n",
    "                     alpha=0.2, color='k')\n",
    "    y_samples = gp_t.sample_y(X_[:, np.newaxis], 10)\n",
    "    plt.plot(X_, y_samples, lw=1)\n",
    "    plt.xlim(0, 5)\n",
    "    plt.ylim(-3, 3)\n",
    "    plt.title(\"Prior (kernel:  %s)\" % kernel, fontsize=12)\n",
    "\n",
    "    # Generate data and fit GP\n",
    "    gp_t.fit(X_train, y_train)\n",
    "    y_mean_t, y_std_t = gp_t.predict(X_test ,return_cov=True)\n",
    "    print 'kernel number - 0', fig_index\n",
    "    print \"Mean squared error: %.2f\"% mean_squared_error(y_test, y_mean_t)\n",
    "    print 'Variance score: %.2f' % r2_score(y_test, y_mean_t)\n",
    "    SurrogateHeatmap(X_test[:,0], X_test[:,1], y_mean_t, y_min, y_max,'GP_pred_%s'%fig_index)"
   ]
  },
  {
   "cell_type": "code",
   "execution_count": null,
   "metadata": {},
   "outputs": [],
   "source": []
  }
 ],
 "metadata": {
  "kernelspec": {
   "display_name": "Python 2",
   "language": "python",
   "name": "python2"
  },
  "language_info": {
   "codemirror_mode": {
    "name": "ipython",
    "version": 2
   },
   "file_extension": ".py",
   "mimetype": "text/x-python",
   "name": "python",
   "nbconvert_exporter": "python",
   "pygments_lexer": "ipython2",
   "version": "2.7.12"
  }
 },
 "nbformat": 4,
 "nbformat_minor": 2
}
